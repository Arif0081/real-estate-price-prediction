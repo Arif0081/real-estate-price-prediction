{
  "cells": [
    {
      "cell_type": "code",
      "execution_count": null,
      "metadata": {
        "id": "WNVeXksC2Jea"
      },
      "outputs": [],
      "source": [
        "import pandas as pd\n",
        "import numpy as np\n",
        "from matplotlib import pyplot as plt\n",
        "%matplotlib inline\n",
        "import matplotlib\n",
        "matplotlib.rcParams[\"figure.figsize\"]=(20,10)"
      ]
    },
    {
      "cell_type": "code",
      "execution_count": null,
      "metadata": {
        "colab": {
          "base_uri": "https://localhost:8080/",
          "height": 206
        },
        "id": "Xeabc1lxEn0k",
        "outputId": "2e2d7ea2-e33d-4a28-c573-1cf10af31999"
      },
      "outputs": [],
      "source": [
        "df1=pd.read_csv(\"Bengaluru_House_Data.csv\")\n",
        "df1.head()"
      ]
    },
    {
      "cell_type": "code",
      "execution_count": null,
      "metadata": {
        "colab": {
          "base_uri": "https://localhost:8080/"
        },
        "id": "nvpiGOvFFCcu",
        "outputId": "2f85daad-4ddf-43c4-8e5e-f820302b78ec"
      },
      "outputs": [],
      "source": [
        "df1.shape"
      ]
    },
    {
      "cell_type": "code",
      "execution_count": null,
      "metadata": {
        "colab": {
          "base_uri": "https://localhost:8080/"
        },
        "id": "UjawPbDrFKFK",
        "outputId": "3a58ca41-294c-4e03-c815-e31461c307cc"
      },
      "outputs": [],
      "source": [
        "df1.groupby('area_type')['area_type'].agg('count')"
      ]
    },
    {
      "cell_type": "code",
      "execution_count": null,
      "metadata": {
        "colab": {
          "base_uri": "https://localhost:8080/",
          "height": 206
        },
        "id": "NkxNXgoWFiie",
        "outputId": "4ed08895-2141-438b-949d-4066e51db449"
      },
      "outputs": [],
      "source": [
        "df2=df1.drop(['area_type','society','balcony','availability'],axis='columns')\n",
        "df2.head()"
      ]
    },
    {
      "cell_type": "code",
      "execution_count": null,
      "metadata": {
        "colab": {
          "base_uri": "https://localhost:8080/"
        },
        "id": "ItznMSsIF4o0",
        "outputId": "006e0782-0e4c-406e-a993-0511ffeb6351"
      },
      "outputs": [],
      "source": [
        "df2.isnull().sum()"
      ]
    },
    {
      "cell_type": "code",
      "execution_count": null,
      "metadata": {
        "colab": {
          "base_uri": "https://localhost:8080/"
        },
        "id": "GlXl-kFIFtpC",
        "outputId": "6d92d060-4074-4688-c8ec-2947e171551d"
      },
      "outputs": [],
      "source": [
        "df3=df2.dropna()\n",
        "df3.isnull().sum()"
      ]
    },
    {
      "cell_type": "code",
      "execution_count": null,
      "metadata": {
        "colab": {
          "base_uri": "https://localhost:8080/"
        },
        "id": "SWjq1_rxIs4O",
        "outputId": "0ba3882d-dbdd-4abc-9937-1e018def7b41"
      },
      "outputs": [],
      "source": [
        "df3.shape"
      ]
    },
    {
      "cell_type": "code",
      "execution_count": null,
      "metadata": {
        "colab": {
          "base_uri": "https://localhost:8080/"
        },
        "id": "MooeSdngJMEh",
        "outputId": "f34a150c-26a1-4157-f7ec-36b0b1965811"
      },
      "outputs": [],
      "source": [
        "df3['bhk']=df3['size'].apply(lambda x: int(x.split(' ')[0]))"
      ]
    },
    {
      "cell_type": "code",
      "execution_count": null,
      "metadata": {
        "colab": {
          "base_uri": "https://localhost:8080/",
          "height": 206
        },
        "id": "sTbZ2wRQJrWy",
        "outputId": "77eac1d2-54a8-4772-cafa-64f9b5811856"
      },
      "outputs": [],
      "source": [
        "df3.head()"
      ]
    },
    {
      "cell_type": "code",
      "execution_count": null,
      "metadata": {
        "colab": {
          "base_uri": "https://localhost:8080/"
        },
        "id": "B1dDEy1GJxqo",
        "outputId": "c953c80c-0345-4120-982c-7ffbd7b59270"
      },
      "outputs": [],
      "source": [
        "df3['bhk'].unique()"
      ]
    },
    {
      "cell_type": "code",
      "execution_count": null,
      "metadata": {
        "colab": {
          "base_uri": "https://localhost:8080/",
          "height": 112
        },
        "id": "fRA2T-DAJ3fB",
        "outputId": "3f6e7e6d-9f46-439a-be46-d5bd0d4ed0f7"
      },
      "outputs": [],
      "source": [
        "df3[df3.bhk>20]"
      ]
    },
    {
      "cell_type": "code",
      "execution_count": null,
      "metadata": {
        "colab": {
          "base_uri": "https://localhost:8080/"
        },
        "id": "i_2maTDjKCgf",
        "outputId": "3d34acb7-30c6-4d17-a790-e3c10ce02738"
      },
      "outputs": [],
      "source": [
        "df3.total_sqft.unique()"
      ]
    },
    {
      "cell_type": "code",
      "execution_count": null,
      "metadata": {
        "id": "JVrCGQsPKLDm"
      },
      "outputs": [],
      "source": [
        "def is_float(x):\n",
        "  try:\n",
        "    float(x)\n",
        "  except:\n",
        "    return False\n",
        "  return True"
      ]
    },
    {
      "cell_type": "code",
      "execution_count": null,
      "metadata": {
        "colab": {
          "base_uri": "https://localhost:8080/",
          "height": 362
        },
        "id": "TTcNmXt9KjiT",
        "outputId": "7d59fe3c-0b9e-45ba-f7d1-f939d2e9f0e5"
      },
      "outputs": [],
      "source": [
        "df3[~df3['total_sqft'].apply(is_float)].head(10)"
      ]
    },
    {
      "cell_type": "code",
      "execution_count": null,
      "metadata": {
        "id": "l84zpQnFKtk2"
      },
      "outputs": [],
      "source": [
        "def convert_sqft_to_num(x):\n",
        "  tokens= x.split('-')\n",
        "  if len(tokens) == 2:\n",
        "    return (float(tokens[0])+float(tokens[1]))/2\n",
        "  try:\n",
        "    return float(x)\n",
        "  except:\n",
        "    return None"
      ]
    },
    {
      "cell_type": "code",
      "execution_count": null,
      "metadata": {
        "colab": {
          "base_uri": "https://localhost:8080/"
        },
        "id": "qiq9qSbrLvgW",
        "outputId": "a778bf3a-7d14-43db-d3d5-f7182ab3227b"
      },
      "outputs": [],
      "source": [
        "convert_sqft_to_num('2166')"
      ]
    },
    {
      "cell_type": "code",
      "execution_count": null,
      "metadata": {
        "colab": {
          "base_uri": "https://localhost:8080/",
          "height": 143
        },
        "id": "wK9JJBRLMExa",
        "outputId": "cc280a1b-54d5-4ec1-9e9a-57307f7d2c6c"
      },
      "outputs": [],
      "source": [
        "df4= df3.copy()\n",
        "df4['total_sqft']=df4['total_sqft'].apply(convert_sqft_to_num)\n",
        "df4.head(3)"
      ]
    },
    {
      "cell_type": "code",
      "execution_count": null,
      "metadata": {
        "colab": {
          "base_uri": "https://localhost:8080/"
        },
        "id": "71r7MwsiMXOD",
        "outputId": "579cf3b6-1a5b-4f13-97ac-3fd84be82577"
      },
      "outputs": [],
      "source": [
        "df4.loc[30]"
      ]
    },
    {
      "cell_type": "code",
      "execution_count": null,
      "metadata": {
        "colab": {
          "base_uri": "https://localhost:8080/",
          "height": 206
        },
        "id": "70sDJH-gMu-1",
        "outputId": "da9d38d8-8da2-4f87-e179-85b59d6dfe8d"
      },
      "outputs": [],
      "source": [
        "df5=df4.copy()\n",
        "df5['price_per_sqft']=df5['price']*100000/df5['total_sqft']\n",
        "df5.head()"
      ]
    },
    {
      "cell_type": "code",
      "execution_count": null,
      "metadata": {
        "colab": {
          "base_uri": "https://localhost:8080/"
        },
        "id": "Bi8LTCZ1M3Tr",
        "outputId": "57180057-4b25-479a-c861-da4cd89a96b4"
      },
      "outputs": [],
      "source": [
        "len(df5.location.unique())"
      ]
    },
    {
      "cell_type": "code",
      "execution_count": null,
      "metadata": {
        "colab": {
          "base_uri": "https://localhost:8080/"
        },
        "id": "46Pm-waHNfnv",
        "outputId": "9d907f58-e022-4f9c-cdfe-10bc0300efbf"
      },
      "outputs": [],
      "source": [
        "df5.location = df5.location.apply(lambda x: x.strip())\n",
        "location_stats = df5.groupby('location')['location'].agg('count')\n",
        "location_stats"
      ]
    },
    {
      "cell_type": "code",
      "execution_count": null,
      "metadata": {
        "colab": {
          "base_uri": "https://localhost:8080/"
        },
        "id": "PfFaxs5HODN9",
        "outputId": "8e48dd6d-2a19-41ff-8798-9554746eec19"
      },
      "outputs": [],
      "source": [
        "len(location_stats[location_stats<=10])"
      ]
    },
    {
      "cell_type": "code",
      "execution_count": null,
      "metadata": {
        "colab": {
          "base_uri": "https://localhost:8080/"
        },
        "id": "eZ3umhGlOOln",
        "outputId": "5e504a8f-abe9-4548-ce0e-6f005913a779"
      },
      "outputs": [],
      "source": [
        "location_stats_less_than_10= location_stats[location_stats<=10]\n",
        "location_stats_less_than_10"
      ]
    },
    {
      "cell_type": "code",
      "execution_count": null,
      "metadata": {
        "colab": {
          "base_uri": "https://localhost:8080/"
        },
        "id": "daQd-qHbPst9",
        "outputId": "c7c302c0-269c-4a6c-a255-2612516288bc"
      },
      "outputs": [],
      "source": [
        "df5.location = df5.location.apply(lambda x: 'other' if x in location_stats_less_than_10 else x)\n",
        "len(df5.location.unique())"
      ]
    },
    {
      "cell_type": "code",
      "execution_count": null,
      "metadata": {
        "colab": {
          "base_uri": "https://localhost:8080/",
          "height": 362
        },
        "id": "u5I_3-MLQcv-",
        "outputId": "a39ad214-e898-46ba-e6eb-8ea50f539382"
      },
      "outputs": [],
      "source": [
        "df5.head(10)"
      ]
    },
    {
      "cell_type": "code",
      "execution_count": null,
      "metadata": {
        "colab": {
          "base_uri": "https://localhost:8080/"
        },
        "id": "1_uSFeH-QnpP",
        "outputId": "15a117b2-97f0-40f7-a5dd-83f55dadcf8f"
      },
      "outputs": [],
      "source": [
        "df5.shape"
      ]
    },
    {
      "cell_type": "code",
      "execution_count": null,
      "metadata": {
        "colab": {
          "base_uri": "https://localhost:8080/"
        },
        "id": "l9O8l7Q0Sf1X",
        "outputId": "4b278f62-3770-48c8-cdaa-00c7a632ef55"
      },
      "outputs": [],
      "source": [
        "df6=df5[~(df5.total_sqft/df5.bhk<300)]\n",
        "df6.shape"
      ]
    },
    {
      "cell_type": "code",
      "execution_count": null,
      "metadata": {
        "colab": {
          "base_uri": "https://localhost:8080/"
        },
        "id": "w1oy6JI-Stzr",
        "outputId": "46e50fb2-3bc0-4fe7-8075-b02cf7ea6783"
      },
      "outputs": [],
      "source": [
        "df6.price_per_sqft.describe()"
      ]
    },
    {
      "cell_type": "code",
      "execution_count": null,
      "metadata": {
        "colab": {
          "base_uri": "https://localhost:8080/"
        },
        "id": "bDucLB48SytC",
        "outputId": "bcad0b79-ae44-4920-cd50-40e410ed0b1b"
      },
      "outputs": [],
      "source": [
        "def remove_pps_outliers(df):\n",
        "  df_out = pd.DataFrame()\n",
        "  for key, subdf in df.groupby('location'):\n",
        "    m = np.mean(subdf.price_per_sqft)\n",
        "    st = np.std(subdf.price_per_sqft)\n",
        "    reduced_df = subdf[(subdf.price_per_sqft>(m-st)) & (subdf.price_per_sqft<=(m+st))]\n",
        "    df_out = pd.concat([df_out,reduced_df], ignore_index=True)\n",
        "  return df_out\n",
        "\n",
        "df7= remove_pps_outliers(df6)\n",
        "df7.shape"
      ]
    },
    {
      "cell_type": "code",
      "execution_count": null,
      "metadata": {
        "colab": {
          "base_uri": "https://localhost:8080/",
          "height": 872
        },
        "id": "zWFUUf72ITRO",
        "outputId": "c1fff80f-a55b-4a74-efb4-5e420c8c390f"
      },
      "outputs": [],
      "source": [
        "def plot_scatter_chart(df,location):\n",
        "  bhk2 = df[(df.location==location) & (df.bhk==2)]\n",
        "  bhk3 = df[(df.location==location) & (df.bhk==3)]\n",
        "  matplotlib.rcParams['figure.figsize'] = (15,10)\n",
        "  plt.scatter(bhk2.total_sqft,bhk2.price_per_sqft,color='blue',label='2 BHK', s=50)\n",
        "  plt.scatter(bhk3.total_sqft,bhk3.price_per_sqft,marker='+',color='green',label='3 BHK', s=50)\n",
        "  plt.xlabel(\"Total Square Feet Area\")\n",
        "  plt.ylabel(\"Price\")\n",
        "  plt.title(location)\n",
        "  plt.legend()\n",
        "\n",
        "plot_scatter_chart(df7,\"Hebbal\")"
      ]
    },
    {
      "cell_type": "code",
      "execution_count": null,
      "metadata": {
        "colab": {
          "base_uri": "https://localhost:8080/"
        },
        "id": "yZCpSiIvM-9O",
        "outputId": "b01fe318-91bb-4d04-8c13-3ac8f5a0507c"
      },
      "outputs": [],
      "source": [
        "def remove_bhk_outliers(df):\n",
        "  exclude_indices = np.array([])\n",
        "  for location, location_df in df.groupby('location'):\n",
        "    bhk_stats = {}\n",
        "    for bhk, bhk_df in location_df.groupby('bhk'):\n",
        "      bhk_stats[bhk] = {\n",
        "          'mean': np.mean(bhk_df.price_per_sqft),\n",
        "          'std': np.std(bhk_df.price_per_sqft),\n",
        "          'count': bhk_df.shape[0]\n",
        "      }\n",
        "    for bhk, bhk_df in location_df.groupby('bhk'):\n",
        "      stats = bhk_stats.get(bhk-1)\n",
        "      if stats and stats['count']>5:\n",
        "        exclude_indices = np.append(exclude_indices, bhk_df[bhk_df.price_per_sqft<(stats['mean'])].index.values)\n",
        "  return df.drop(exclude_indices,axis='index')\n",
        "\n",
        "df8 = remove_bhk_outliers(df7)\n",
        "df8.shape"
      ]
    },
    {
      "cell_type": "code",
      "execution_count": null,
      "metadata": {
        "colab": {
          "base_uri": "https://localhost:8080/",
          "height": 698
        },
        "id": "q_GuahDaO-LU",
        "outputId": "510cc6db-5df6-4d16-d3f6-95a21980998b"
      },
      "outputs": [],
      "source": [
        "import matplotlib\n",
        "matplotlib.rcParams['figure.figsize']=(20,10)\n",
        "plt.hist(df8.price_per_sqft,rwidth=0.8)\n",
        "plt.xlabel(\"Price Per Square Feet\")\n",
        "plt.ylabel(\"Count\")"
      ]
    },
    {
      "cell_type": "code",
      "execution_count": null,
      "metadata": {
        "colab": {
          "base_uri": "https://localhost:8080/"
        },
        "id": "80A9_MF0PUlq",
        "outputId": "f4d0a1f2-e313-4b92-835e-2be75c9180c3"
      },
      "outputs": [],
      "source": [
        "df8.bath.unique()"
      ]
    },
    {
      "cell_type": "code",
      "execution_count": null,
      "metadata": {
        "colab": {
          "base_uri": "https://localhost:8080/",
          "height": 206
        },
        "id": "q1wRP9sFPfXN",
        "outputId": "c8e5192e-1655-43fe-9754-5e2f4b4061ec"
      },
      "outputs": [],
      "source": [
        "df8[df8.bath>10]"
      ]
    },
    {
      "cell_type": "code",
      "execution_count": null,
      "metadata": {
        "colab": {
          "base_uri": "https://localhost:8080/",
          "height": 702
        },
        "id": "blLwZrUCQJL5",
        "outputId": "cc3e7d4c-5372-4392-f2a3-145a7f3fae7d"
      },
      "outputs": [],
      "source": [
        "plt.hist(df8.bath,rwidth=0.8)\n",
        "plt.xlabel(\"Number of bathrooms\")\n",
        "plt.ylabel(\"Count\")"
      ]
    },
    {
      "cell_type": "code",
      "execution_count": null,
      "metadata": {
        "colab": {
          "base_uri": "https://localhost:8080/",
          "height": 174
        },
        "id": "-FyOyJR-QTJi",
        "outputId": "a2edc325-1d63-4ef0-eb79-9e0a63b03f07"
      },
      "outputs": [],
      "source": [
        "df8[df8.bath>df8.bhk+2]"
      ]
    },
    {
      "cell_type": "code",
      "execution_count": null,
      "metadata": {
        "colab": {
          "base_uri": "https://localhost:8080/"
        },
        "id": "RUGGz8-VQbK-",
        "outputId": "2be161a7-83d9-4f15-fe96-13f07b03af3c"
      },
      "outputs": [],
      "source": [
        "df9=df8[df8.bath<df8.bhk+2]\n",
        "df9.shape"
      ]
    },
    {
      "cell_type": "code",
      "execution_count": null,
      "metadata": {
        "colab": {
          "base_uri": "https://localhost:8080/",
          "height": 143
        },
        "id": "ipsB07ebQlQw",
        "outputId": "3463179a-038e-4af9-a2c6-3742410cd423"
      },
      "outputs": [],
      "source": [
        "df10 = df9.drop(['size','price_per_sqft'],axis='columns')\n",
        "df10.head(3)"
      ]
    },
    {
      "cell_type": "code",
      "execution_count": null,
      "metadata": {
        "colab": {
          "base_uri": "https://localhost:8080/",
          "height": 307
        },
        "id": "CaKnN_wyQ7_0",
        "outputId": "acb2caaa-2302-499a-fbab-b3005dee1d95"
      },
      "outputs": [],
      "source": [
        "dummies=pd.get_dummies(df10.location)\n",
        "dummies.head()"
      ]
    },
    {
      "cell_type": "code",
      "execution_count": null,
      "metadata": {
        "colab": {
          "base_uri": "https://localhost:8080/",
          "height": 297
        },
        "id": "Aj82E5t4RMzQ",
        "outputId": "0d45835f-c251-4a6d-ceb7-00aa673d6911"
      },
      "outputs": [],
      "source": [
        "df11=pd.concat([df10,dummies.drop('other',axis='columns')],axis='columns')\n",
        "df11.head(3)"
      ]
    },
    {
      "cell_type": "code",
      "execution_count": null,
      "metadata": {
        "colab": {
          "base_uri": "https://localhost:8080/",
          "height": 245
        },
        "id": "1rms0C41RGab",
        "outputId": "df697055-8e54-4729-b669-76b4b3e91de7"
      },
      "outputs": [],
      "source": [
        "df12 = df11.drop('location',axis='columns')\n",
        "df12.head(3)"
      ]
    },
    {
      "cell_type": "code",
      "execution_count": null,
      "metadata": {
        "colab": {
          "base_uri": "https://localhost:8080/",
          "height": 307
        },
        "id": "TIFlKcOk5vuZ",
        "outputId": "59153f30-5174-425e-e418-2dd16186bca2"
      },
      "outputs": [],
      "source": [
        "X = df12.drop('price',axis='columns')\n",
        "X.head()"
      ]
    },
    {
      "cell_type": "code",
      "execution_count": null,
      "metadata": {
        "colab": {
          "base_uri": "https://localhost:8080/"
        },
        "id": "Mc-HRQuL555Y",
        "outputId": "4c62ba32-2788-4af5-e584-a6ccc59ca599"
      },
      "outputs": [],
      "source": [
        "y = df12.price\n",
        "y.head()"
      ]
    },
    {
      "cell_type": "code",
      "execution_count": null,
      "metadata": {
        "id": "VRldDWKO62z4"
      },
      "outputs": [],
      "source": [
        "from sklearn.model_selection import train_test_split\n",
        "X_train, X_test, y_train, y_test = train_test_split(X,y,test_size=0.2,random_state=10)"
      ]
    },
    {
      "cell_type": "code",
      "execution_count": null,
      "metadata": {
        "colab": {
          "base_uri": "https://localhost:8080/"
        },
        "id": "yvZTuY1u5-WN",
        "outputId": "466e8f2a-9e4f-4773-8fba-20d4ef94a926"
      },
      "outputs": [],
      "source": [
        "from sklearn.linear_model import LinearRegression\n",
        "lr_clf = LinearRegression()\n",
        "lr_clf.fit(X_train,y_train)\n",
        "lr_clf.score(X_test,y_test)"
      ]
    },
    {
      "cell_type": "code",
      "execution_count": null,
      "metadata": {
        "colab": {
          "base_uri": "https://localhost:8080/"
        },
        "id": "NVWAVDvnAOz5",
        "outputId": "72a7d585-a263-43c2-fd74-bbb3fe00633a"
      },
      "outputs": [],
      "source": [
        "from sklearn.model_selection import ShuffleSplit\n",
        "from sklearn.model_selection import cross_val_score\n",
        "\n",
        "cv= ShuffleSplit(n_splits=5, test_size=0.2, random_state=0)\n",
        "\n",
        "cross_val_score(LinearRegression(),X,y,cv=cv)"
      ]
    },
    {
      "cell_type": "code",
      "execution_count": null,
      "metadata": {
        "colab": {
          "base_uri": "https://localhost:8080/",
          "height": 598
        },
        "id": "nsuHYMidAVuL",
        "outputId": "96be0378-44be-46c5-c8f8-7bcfddd0e7f5"
      },
      "outputs": [],
      "source": [
        "from sklearn.model_selection import GridSearchCV\n",
        "from sklearn.linear_model import Lasso\n",
        "from sklearn.tree import DecisionTreeClassifier\n",
        "\n",
        "def find_best_model_using_gridsearchcv(X,y):\n",
        "  algos={\n",
        "      'linear_regression' : {\n",
        "          'model' : LinearRegression(),\n",
        "          'params' : {\n",
        "              'positive' : [True, False]\n",
        "          }\n",
        "      },\n",
        "      'lasso' : {\n",
        "          'model' : Lasso(),\n",
        "          'params' : {\n",
        "              'alpha' : [1,2],\n",
        "              'selection' : ['random', 'cyclic']\n",
        "          }\n",
        "      },\n",
        "      'decision_tree' : {\n",
        "          'model' : DecisionTreeClassifier(),\n",
        "          'params' :  {\n",
        "              'criterion' : [ 'mse' , 'friedman_mse'],\n",
        "              'splitter' : [ 'best' , 'random']\n",
        "          }\n",
        "      }\n",
        "  }\n",
        "\n",
        "  scores=[]\n",
        "  cv= ShuffleSplit(n_splits=5, test_size=0.2, random_state=0)\n",
        "  for algo_name, config in algos.items():\n",
        "    gs= GridSearchCV(config['model'], config['params'], cv=cv, return_train_score=False)\n",
        "    gs.fit(X,y)\n",
        "    scores.append({\n",
        "        'model': algo_name,\n",
        "        'best_score' : gs.best_score_,\n",
        "        'best_params' :  gs.best_params_\n",
        "    })\n",
        "  return pd.DataFrame(scores, columns=['model', 'best_score', 'best_params'])\n",
        "\n",
        "find_best_model_using_gridsearchcv(X,y)"
      ]
    },
    {
      "cell_type": "code",
      "execution_count": null,
      "metadata": {
        "id": "DOaiofQfOM46"
      },
      "outputs": [],
      "source": [
        "def predict_price(location,sqft,bath,bhk):\n",
        "    loc_index = np.where(X.columns==location)[0][0]\n",
        "\n",
        "    x = np.zeros(len(X.columns))\n",
        "    x[0] = sqft\n",
        "    x[1] = bath\n",
        "    x[2] = bhk\n",
        "    if loc_index >= 0:\n",
        "        x[loc_index] = 1\n",
        "\n",
        "    return lr_clf.predict([x])[0]"
      ]
    },
    {
      "cell_type": "code",
      "execution_count": null,
      "metadata": {
        "colab": {
          "base_uri": "https://localhost:8080/"
        },
        "id": "Bn-iMQ3WOSJj",
        "outputId": "f8084764-90bb-4037-908c-14174f43f878"
      },
      "outputs": [],
      "source": [
        "predict_price('1st Phase JP Nagar',1000, 2, 2)"
      ]
    },
    {
      "cell_type": "code",
      "execution_count": null,
      "metadata": {
        "colab": {
          "base_uri": "https://localhost:8080/"
        },
        "id": "msq0UKVdOVG8",
        "outputId": "d40b8d7c-1a35-49b2-da00-6e50a1fd92cb"
      },
      "outputs": [],
      "source": [
        "predict_price('1st Phase JP Nagar',1000, 3, 3)"
      ]
    },
    {
      "cell_type": "code",
      "execution_count": null,
      "metadata": {
        "colab": {
          "base_uri": "https://localhost:8080/"
        },
        "id": "lxTO85p5OYCB",
        "outputId": "1f5111c9-4c56-4f0c-ef08-857e3721cac6"
      },
      "outputs": [],
      "source": [
        "predict_price('Indira Nagar',1000, 2, 2)"
      ]
    },
    {
      "cell_type": "code",
      "execution_count": null,
      "metadata": {
        "colab": {
          "base_uri": "https://localhost:8080/"
        },
        "id": "gzgKHY1lOaWq",
        "outputId": "171b589a-6a8b-4fe4-aeda-ef1d613bc9d0"
      },
      "outputs": [],
      "source": [
        "predict_price('Indira Nagar',1000, 3, 3)"
      ]
    }
  ],
  "metadata": {
    "colab": {
      "provenance": []
    },
    "kernelspec": {
      "display_name": "Python 3",
      "name": "python3"
    },
    "language_info": {
      "codemirror_mode": {
        "name": "ipython",
        "version": 3
      },
      "file_extension": ".py",
      "mimetype": "text/x-python",
      "name": "python",
      "nbconvert_exporter": "python",
      "pygments_lexer": "ipython3",
      "version": "3.12.0"
    }
  },
  "nbformat": 4,
  "nbformat_minor": 0
}
